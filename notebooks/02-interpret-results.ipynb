{
 "cells": [
  {
   "cell_type": "code",
   "execution_count": 17,
   "metadata": {
    "collapsed": true
   },
   "outputs": [
    {
     "name": "stdout",
     "output_type": "stream",
     "text": [
      "The autoreload extension is already loaded. To reload it, use:\n",
      "  %reload_ext autoreload\n",
      "/home/viktor/workspace/mrc-stresstest\n"
     ]
    }
   ],
   "source": [
    "%load_ext autoreload\n",
    "%autoreload 2\n",
    "import os\n",
    "from collections import defaultdict\n",
    "if os.path.basename(os.path.realpath(os.getcwd())) == 'notebooks':\n",
    "    print(\"changing dir...\")\n",
    "    os.chdir('../')\n",
    "print(os.getcwd())\n",
    "from stresstest.util import load_json\n",
    "\n",
    "datasets = ['squad1', 'hotpotqa', 'newsqa', 'drop']\n",
    "models = ['bidaf', 'bert-base', 'bert-large', 'roberta-base', 'roberta-large',\n",
    "          'albert-base', 'albert-large', 'albert-xlarge', 'albert-xxlarge', 't5-small', 't5-base',\n",
    "          't5-large']\n",
    "result = defaultdict(dict)\n",
    "for ds in datasets:\n",
    "    ds_results = load_json(f'metrics/football/{ds}/eoi.json')\n",
    "    for model in models:\n",
    "        model_key = next((k for k in sorted(ds_results.keys(),key=len) if k.startswith(model)), None)\n",
    "        if model_key:\n",
    "            result[model][ds] = ds_results[model_key]\n",
    "        else:\n",
    "            result[model][ds] = None"
   ]
  },
  {
   "cell_type": "code",
   "execution_count": 18,
   "outputs": [
    {
     "name": "stdout",
     "output_type": "stream",
     "text": [
      "\\begin{tabular}{llllll}\n",
      "\\hline\n",
      " \\texttt{bidaf}          & $11 \\pm 3$ & $67.2/76.9$ & $12 \\pm 4$ & $44.6/57.9$ & $4 \\pm 3$  & $40.0/54.3$ & $13 \\pm 5$ & $50.8/56.8$ & $18 \\pm 12$ \\\\\n",
      " \\texttt{bert-base}      & $13 \\pm 2$ & $76.3/84.9$ & $13 \\pm 3$ & $50.7/64.9$ & $17 \\pm 4$ & $46.6/62.5$ & $13 \\pm 3$ & $50.5/58.2$ & $10 \\pm 3$  \\\\\n",
      " \\texttt{bert-large}     & $15 \\pm 2$ & $81.9/89.4$ & $15 \\pm 3$ & $54.4/68.7$ & $14 \\pm 3$ & $49.1/65.7$ & $14 \\pm 4$ & $62.2/68.7$ & $16 \\pm 3$  \\\\\n",
      " \\texttt{roberta-base}   & $15 \\pm 2$ & $82.4/89.9$ & $8 \\pm 3$  & $51.9/66.4$ & $17 \\pm 4$ & $50.8/66.9$ & $14 \\pm 3$ & $63.5/69.3$ & $20 \\pm 3$  \\\\\n",
      " \\texttt{roberta-large}  & $18 \\pm 1$ & $86.4/93.3$ & $16 \\pm 3$ & $58.6/72.9$ & $21 \\pm 3$ & $54.4/71.1$ & $15 \\pm 3$ & $77.3/82.8$ & $20 \\pm 2$  \\\\\n",
      " \\texttt{albert-base}    & $14 \\pm 2$ & $82.8/90.3$ & $10 \\pm 3$ & $55.4/69.7$ & $17 \\pm 3$ & $49.7/65.7$ & $11 \\pm 3$ & $60.7/67.0$ & $18 \\pm 4$  \\\\\n",
      " \\texttt{albert-large}   & $16 \\pm 1$ & $85.4/92.1$ & $18 \\pm 3$ & $59.4/73.7$ & $12 \\pm 2$ & $52.5/68.9$ & $17 \\pm 3$ & $69.3/75.1$ & $18 \\pm 3$  \\\\\n",
      " \\texttt{albert-xlarge}  & $27 \\pm 2$ & $87.1/93.5$ & $19 \\pm 2$ & $62.4/76.2$ & $21 \\pm 3$ & $54.2/70.4$ & $29 \\pm 3$ & $76.4/81.8$ & $40 \\pm 3$  \\\\\n",
      " \\texttt{albert-xxlarge} & $27 \\pm 1$ & $88.2/94.4$ & $29 \\pm 2$ & $65.9/79.5$ & $29 \\pm 3$ & $54.3/71.0$ & $25 \\pm 3$ & $78.4/84.5$ & $23 \\pm 2$  \\\\\n",
      " \\texttt{t5-small}       & $10 \\pm 1$ & $76.8/85.8$ & $13 \\pm 3$ & $51.8/65.6$ & $10 \\pm 3$ & $47.3/63.3$ & $8 \\pm 2$  & $60.4/66.1$ & $10 \\pm 3$  \\\\\n",
      " \\texttt{t5-base}        & $16 \\pm 1$ & $82.4/90.6$ & $16 \\pm 3$ & $61.0/74.4$ & $20 \\pm 3$ & $52.4/68.8$ & $14 \\pm 3$ & $69.0/74.9$ & $15 \\pm 2$  \\\\\n",
      " \\texttt{t5-large}       & $20 \\pm 1$ & $86.3/93.1$ & $21 \\pm 2$ & $65.0/78.5$ & $29 \\pm 3$ & $53.4/70.0$ & $16 \\pm 3$ & $70.1/75.3$ & $8 \\pm 2$   \\\\\n",
      " \\texttt{average}        & $19 \\pm 0$ & $76.4/83.2$ & $18 \\pm 1$ & $53.1/65.9$ & $20 \\pm 1$ & $47.1/62.1$ & $17 \\pm 1$ & $61.5/67.0$ & $20 \\pm 1$  \\\\\n",
      "\\hline\n",
      "\\end{tabular}\n"
     ]
    }
   ],
   "source": [
    "from stresstest.eval_utils import get_mean_var_ci, get_mean_var_ci_bernoulli\n",
    "def format_overall(model_ds_result):\n",
    "    original_dev_str = f\"$?/?$\"\n",
    "    if model_ds_result:\n",
    "        original_dev_em = model_ds_result.get('original_dev_em', None)\n",
    "        original_dev_f1 = model_ds_result.get('original_dev_f1', None)\n",
    "        if original_dev_em < 1 and original_dev_f1 < 1:\n",
    "            original_dev_em *= 100\n",
    "            original_dev_f1 *= 100\n",
    "        if original_dev_em and original_dev_f1:\n",
    "            original_dev_str = f\"${round(original_dev_em,1)}/{round(original_dev_f1,1)}$\"\n",
    "        res = model_ds_result['evaluation_on_intervention']\n",
    "        mean = res['mean']\n",
    "        ci = res['95ci']\n",
    "        latex_str = f\"${round(mean*100)} \\pm {round(ci*100)}$\"\n",
    "    else:\n",
    "        latex_str = f\"$?\\pm ?$\"\n",
    "    return \" & \".join([original_dev_str, latex_str])\n",
    "\n",
    "def get_average(values, macro):\n",
    "    if macro:\n",
    "        vals = [v['evaluation_on_intervention']['mean'] for v in values]\n",
    "        mean, var, ci = get_mean_var_ci(vals)\n",
    "    else:\n",
    "        tp = sum(v['behaviour']['right+control->change->right'] for v in values)\n",
    "        tp_and_fn = sum(v['behaviour']['correct_baseline_control']for v in values)\n",
    "        sample = [1] * tp + [0] * (tp_and_fn - tp)\n",
    "        mean, var, ci = get_mean_var_ci_bernoulli(sample)\n",
    "    return mean, var, ci\n",
    "\n",
    "def format_average(values, macro=True):\n",
    "    values = values.values()\n",
    "\n",
    "    if all(v for v in values):\n",
    "        mean, var, ci = get_average(values, macro)\n",
    "        latex_str = f\"${int(round(mean*100))} \\pm {int(round(ci*100))}$\"\n",
    "    else:\n",
    "        latex_str = \"$?\\pm ?$\"\n",
    "    return latex_str\n",
    "\n",
    "def format_overall_average(result, macro=True):\n",
    "    ds_tp = defaultdict(int)\n",
    "    ds_n = defaultdict(int)\n",
    "    overall = defaultdict(list)\n",
    "    overall_dev_em = defaultdict(list)\n",
    "    overall_dev_f1 = defaultdict(list)\n",
    "    num_models = len(result)\n",
    "    for _, model_result in result.items():\n",
    "        for ds_name, res in model_result.items():\n",
    "\n",
    "            if res:\n",
    "                ds_tp[ds_name] += res['behaviour']['right+control->change->right']\n",
    "                ds_n[ds_name] += res['behaviour']['correct_baseline_control']\n",
    "                overall[ds_name].append( res[\"evaluation_on_intervention\"]['mean'])\n",
    "                overall_dev_em[ds_name].append(res[\"original_dev_em\"])\n",
    "                overall_dev_f1[ds_name].append(res['original_dev_f1'])\n",
    "\n",
    "    micro_average = dict()\n",
    "    macro_average = dict()\n",
    "    original_average = dict()\n",
    "\n",
    "    for (ds_name, tp), (_, n) in zip(ds_tp.items(), ds_n.items()):\n",
    "        sample = [1] * tp + [0] * (n - tp)\n",
    "        mean, var, ci = get_mean_var_ci_bernoulli(sample)\n",
    "        latex_str = f\"${int(round(mean*100))} \\pm {int(round(ci*100))}$\"\n",
    "        micro_average[ds_name] = latex_str\n",
    "        vals = overall[ds_name]\n",
    "        mean, var, ci = get_mean_var_ci(vals)\n",
    "        macro_average[ds_name] =  f\"${int(round(mean*100))} \\pm {int(round(ci*100))}$\"\n",
    "        em_vals = overall_dev_em[ds_name]\n",
    "        em_avg = get_mean_var_ci(em_vals)[0]\n",
    "        f1_vals = overall_dev_f1[ds_name]\n",
    "        f1_avg = get_mean_var_ci(f1_vals)[0]\n",
    "        original_average[ds_name] = f\"${round(em_avg,1)}/{round(f1_avg,1)}$\"\n",
    "    total_tp = sum(ds_tp.values())\n",
    "    total_n = sum(ds_n.values())\n",
    "    sample = [1] * total_tp + [0] * (total_n - total_tp)\n",
    "    mean, var, ci = get_mean_var_ci_bernoulli(sample)\n",
    "    final_result =  [f\"${int(round(mean*100))} \\pm {int(round(ci*100))}$\"]\n",
    "\n",
    "    for ds_name in micro_average.keys():\n",
    "        cell = []\n",
    "        cell.append(original_average[ds_name])\n",
    "        if macro:\n",
    "            cell.append(macro_average[ds_name])\n",
    "        else:\n",
    "            cell.append(micro_average[ds_name])\n",
    "        final_result.append(\" & \".join(cell))\n",
    "    #print(final_result)\n",
    "    return final_result\n",
    "\n",
    "\n",
    "\n",
    "from tabulate import tabulate\n",
    "table = []\n",
    "headers = [] #['average'] + datasets\n",
    "for model_name, values in result.items():\n",
    "        table.append([f\"\\\\texttt{{{model_name}}}\"] + [format_average(values,macro=False)] + [format_overall(values[d]) for d in datasets])\n",
    "#print(format_overall_average(result, macro=False))\n",
    "table.append([\"\\\\texttt{average}\"] + format_overall_average(result, macro=False))\n",
    "print(tabulate(table, headers, tablefmt=\"latex_raw\"))"
   ],
   "metadata": {
    "collapsed": false,
    "pycharm": {
     "name": "#%%\n"
    }
   }
  },
  {
   "cell_type": "markdown",
   "source": [
    "Ignored vs Confused"
   ],
   "metadata": {
    "collapsed": false,
    "pycharm": {
     "name": "#%% md\n"
    }
   }
  },
  {
   "cell_type": "code",
   "execution_count": 3,
   "outputs": [
    {
     "name": "stdout",
     "output_type": "stream",
     "text": [
      "Ignored\n",
      "84+/- 0.5\n",
      "Confused\n",
      "16+/- 0.5\n"
     ]
    }
   ],
   "source": [
    "def get_ignored_confused(model_predicate=lambda x: True, ds_predicate=lambda x: True):\n",
    "    ignored = 0\n",
    "    confused = 0\n",
    "    for model_name, model in result.items():\n",
    "        if model_predicate(model_name):\n",
    "            for ds_name, dsr in model.items():\n",
    "                if dsr and ds_predicate(ds_name):\n",
    "                    ignored += dsr['behaviour']['right+control->keep->wrong']\n",
    "                    confused += dsr['behaviour']['right+control->change->wrong']\n",
    "    return ignored, confused\n",
    "ignored, confused = get_ignored_confused()\n",
    "mean_ignored, _, ci = get_mean_var_ci_bernoulli([1] * ignored + [0] * confused)\n",
    "print(\"Ignored\")\n",
    "print(f\"{round(mean_ignored*100)}+/- {round(ci*100,1)}\")\n",
    "mean_confused, _, ci = get_mean_var_ci_bernoulli([0] * ignored + [1] * confused)\n",
    "print(\"Confused\")\n",
    "print(f\"{round(mean_confused*100)}+/- {round(ci*100,1)}\")"
   ],
   "metadata": {
    "collapsed": false,
    "pycharm": {
     "name": "#%%\n"
    }
   }
  },
  {
   "cell_type": "code",
   "execution_count": 4,
   "outputs": [
    {
     "name": "stdout",
     "output_type": "stream",
     "text": [
      "930\n",
      "168\n",
      "0.8469945355191257\n"
     ]
    }
   ],
   "source": [
    "ignored_nobidaf, confused_nobidaf = get_ignored_confused(lambda x: \"bidaf\" in x)\n",
    "print(ignored_nobidaf)\n",
    "print(confused_nobidaf)\n",
    "print(ignored_nobidaf/(confused_nobidaf+ignored_nobidaf))"
   ],
   "metadata": {
    "collapsed": false,
    "pycharm": {
     "name": "#%%\n"
    }
   }
  },
  {
   "cell_type": "code",
   "execution_count": 5,
   "outputs": [
    {
     "name": "stdout",
     "output_type": "stream",
     "text": [
      "5887\n",
      "1055\n",
      "0.8480265053298761\n"
     ]
    }
   ],
   "source": [
    "ignored_squad_only, confused_squad_only = get_ignored_confused(ds_predicate=lambda x: \"squad\" in x)\n",
    "print(ignored_squad_only)\n",
    "print(confused_squad_only)\n",
    "print(ignored_squad_only/(ignored_squad_only+confused_squad_only))"
   ],
   "metadata": {
    "collapsed": false,
    "pycharm": {
     "name": "#%%\n"
    }
   }
  },
  {
   "cell_type": "code",
   "execution_count": 6,
   "outputs": [
    {
     "name": "stdout",
     "output_type": "stream",
     "text": [
      "Sam: MD\n",
      "18+/- 1.1\n",
      "Sam: RB\n",
      "12+/- 0.9\n",
      "Sam: VB-neg-impl\n",
      "19+/- 1.1\n",
      "Sam: VB-pol-rev\n",
      "23+/- 1.1\n",
      "Sam: VP-neg-impl\n",
      "17+/- 1.0\n",
      "Sam: VP-pol-rev\n",
      "21+/- 1.2\n"
     ]
    }
   ],
   "source": [
    "def get_by_sam(model_predicate=lambda x: True, ds_predicate=lambda x: True):\n",
    "    by_sam_tp = defaultdict(int)\n",
    "    by_sam_n = defaultdict(int)\n",
    "    for model_name, model in result.items():\n",
    "        if model_predicate(model_name):\n",
    "            for ds_name, dsr in model.items():\n",
    "                if dsr and ds_predicate(ds_name):\n",
    "                    for sam, sr in dsr['by_sam'].items():\n",
    "                        by_sam_tp[sam] += sr['tp']\n",
    "                        by_sam_n[sam] += sr['n']\n",
    "    return by_sam_tp, by_sam_n\n",
    "\n",
    "by_sam_tp, by_sam_n = get_by_sam()\n",
    "for (sam_type, tp), (_, n) in zip(by_sam_tp.items(), by_sam_n.items()):\n",
    "    mean_sam, _, ci = get_mean_var_ci_bernoulli([1] * tp + [0] * (n-tp))\n",
    "    print(f\"Sam: {sam_type}\")\n",
    "    print(f\"{round(mean_sam*100)}+/- {round(ci*100,1)}\")"
   ],
   "metadata": {
    "collapsed": false,
    "pycharm": {
     "name": "#%%\n"
    }
   }
  },
  {
   "cell_type": "code",
   "execution_count": 7,
   "outputs": [
    {
     "name": "stdout",
     "output_type": "stream",
     "text": [
      "No Bidaf\n",
      "Sam: MD\n",
      "19+/- 1.1\n",
      "Sam: RB\n",
      "12+/- 0.9\n",
      "Sam: VB-neg-impl\n",
      "20+/- 1.2\n",
      "Sam: VB-pol-rev\n",
      "24+/- 1.2\n",
      "Sam: VP-neg-impl\n",
      "17+/- 1.1\n",
      "Sam: VP-pol-rev\n",
      "21+/- 1.2\n"
     ]
    }
   ],
   "source": [
    "no_bidaf_by_sam_tp, no_bidaf_by_sam_n = get_by_sam(lambda x: \"bidaf\" not in x)\n",
    "print(\"No Bidaf\")\n",
    "for (sam_type, tp), (_, n) in zip(no_bidaf_by_sam_tp.items(), no_bidaf_by_sam_n.items()):\n",
    "    mean_sam, _, ci = get_mean_var_ci_bernoulli([1] * tp + [0] * (n-tp))\n",
    "    print(f\"Sam: {sam_type}\")\n",
    "    print(f\"{round(mean_sam*100)}+/- {round(ci*100,1)}\")"
   ],
   "metadata": {
    "collapsed": false,
    "pycharm": {
     "name": "#%%\n"
    }
   }
  },
  {
   "cell_type": "code",
   "execution_count": 8,
   "outputs": [
    {
     "name": "stdout",
     "output_type": "stream",
     "text": [
      "Sam: 1\n",
      "22+/- 0.8\n",
      "Sam: 2\n",
      "18+/- 0.8\n",
      "Sam: 3\n",
      "15+/- 0.7\n"
     ]
    }
   ],
   "source": [
    "def get_by_num_mod(model_predicate=lambda x: True, ds_predicate=lambda x: True):\n",
    "    by_num_mod_tp = defaultdict(int)\n",
    "    by_num_mod_n = defaultdict(int)\n",
    "    for model_name, model in result.items():\n",
    "        if model_predicate(model_name):\n",
    "            for ds_name, dsr in model.items():\n",
    "                if dsr and ds_predicate(ds_name):\n",
    "                    for sam, sr in dsr['by_num_modifier'].items():\n",
    "                        by_num_mod_tp[sam] += sr['tp']\n",
    "                        by_num_mod_n[sam] += sr['n']\n",
    "    return by_num_mod_tp, by_num_mod_n\n",
    "\n",
    "by_num_mod_tp, by_num_mod_n = get_by_num_mod()\n",
    "for (sam_type, tp), (_, n) in zip(by_num_mod_tp.items(), by_num_mod_n.items()):\n",
    "    mean_sam, _, ci = get_mean_var_ci_bernoulli([1] * tp + [0] * (n-tp))\n",
    "    print(f\"Sam: {sam_type}\")\n",
    "    print(f\"{round(mean_sam*100)}+/- {round(ci*100,1)}\")"
   ],
   "metadata": {
    "collapsed": false,
    "pycharm": {
     "name": "#%%\n"
    }
   }
  },
  {
   "cell_type": "code",
   "execution_count": 9,
   "outputs": [
    {
     "name": "stdout",
     "output_type": "stream",
     "text": [
      "No Bidaf\n",
      "Sam: MD\n",
      "19+/- 1.1\n",
      "Sam: RB\n",
      "12+/- 0.9\n",
      "Sam: VB-neg-impl\n",
      "20+/- 1.2\n",
      "Sam: VB-pol-rev\n",
      "24+/- 1.2\n",
      "Sam: VP-neg-impl\n",
      "17+/- 1.1\n",
      "Sam: VP-pol-rev\n",
      "21+/- 1.2\n"
     ]
    }
   ],
   "source": [
    "no_bidaf_by_sam_tp, no_bidaf_by_sam_n = get_by_sam(lambda x: \"bidaf\" not in x)\n",
    "print(\"No Bidaf\")\n",
    "for (sam_type, tp), (_, n) in zip(no_bidaf_by_sam_tp.items(), no_bidaf_by_sam_n.items()):\n",
    "    mean_sam, _, ci = get_mean_var_ci_bernoulli([1] * tp + [0] * (n-tp))\n",
    "    print(f\"Sam: {sam_type}\")\n",
    "    print(f\"{round(mean_sam*100)}+/- {round(ci*100,1)}\")"
   ],
   "metadata": {
    "collapsed": false,
    "pycharm": {
     "name": "#%%\n"
    }
   }
  },
  {
   "cell_type": "code",
   "execution_count": 10,
   "outputs": [
    {
     "name": "stdout",
     "output_type": "stream",
     "text": [
      "{'bidaf': (2582095, 0.1094017094017094), 'bert-base': (109483778, 0.13437703848662752), 'bert-large': (335143938, 0.14736297828335057), 'roberta-base': (124647170, 0.15057283142389524), 'roberta-large': (355361794, 0.18279944289693592), 'albert-base': (90741506, 0.14099526066350712), 'albert-large': (310437378, 0.16382128586996003), 'albert-xlarge': (1223045634, 0.2688895686754359), 'albert-xxlarge': (2443594242, 0.26564123882768653), 't5-small': (60506880, 0.1019036954087346), 't5-base': (222903936, 0.1597918989223337), 't5-large': (737668608, 0.1954322058398381)}\n"
     ]
    }
   ],
   "source": [
    "model_sizes = load_json('metrics/transformers.json')\n",
    "score_by_size = dict()\n",
    "scores = []\n",
    "errors = []\n",
    "num_params = []\n",
    "for model, values in result.items():\n",
    "    values = values.values()\n",
    "    if all(v for v in values):\n",
    "        score, _, error = get_average(values, macro=False)\n",
    "        score_by_size[model] = (model_sizes[model], score)\n",
    "        scores.append(score)\n",
    "        errors.append(error)\n",
    "        num_params.append(model_sizes[model])\n",
    "print(score_by_size)"
   ],
   "metadata": {
    "collapsed": false,
    "pycharm": {
     "name": "#%%\n"
    }
   }
  },
  {
   "cell_type": "code",
   "execution_count": 11,
   "outputs": [
    {
     "name": "stdout",
     "output_type": "stream",
     "text": [
      "(0.9401806004484999, 1.6810648857189065e-05)\n",
      "SpearmanrResult(correlation=0.9370629370629372, pvalue=6.99316495321054e-06)\n",
      "1.681064885718907e-05 0.9401806004484999\n",
      "[0.02529432768771428, 0.017072767668528624, 0.01579778300763643, 0.016372056732466167, 0.014135384754913799, 0.016602057253713096, 0.013825463644232622, 0.015199142899022022, 0.01248050910052062, 0.01403019751999074, 0.0138440147499648, 0.013214544541555184]\n",
      "12\n",
      "12\n",
      "-0.6642374546508132\n",
      "0.029795299653508956\n",
      "0.0035987967585575198\n",
      "['bidaf', 'bidaf-elmo', 'bert-base', 'bert-large', 'roberta-base', 'roberta-large', 'albert-base', 'albert-large', 'albert-xlarge', 'albert-xxlarge', 't5-small', 't5-base', 't5-large']\n",
      "(26.706, 0.134) +- (0.017,0.017)\n",
      "(28.320, 0.147) +- (0.016,0.016)\n",
      "(26.893, 0.151) +- (0.016,0.016)\n",
      "(28.405, 0.183) +- (0.014,0.014)\n",
      "(26.435, 0.141) +- (0.017,0.017)\n",
      "(28.210, 0.164) +- (0.014,0.014)\n",
      "(30.188, 0.269) +- (0.015,0.015)\n",
      "(31.186, 0.266) +- (0.012,0.012)\n",
      "(25.851, 0.102) +- (0.014,0.014)\n",
      "(27.732, 0.160) +- (0.014,0.014)\n",
      "(29.458, 0.195) +- (0.013,0.013)\n"
     ]
    },
    {
     "data": {
      "text/plain": "<Figure size 432x288 with 1 Axes>",
      "image/png": "[encoded data removed]"
     },
     "metadata": {
      "needs_background": "light"
     },
     "output_type": "display_data"
    }
   ],
   "source": [
    "from scipy.stats import pearsonr, spearmanr, linregress\n",
    "import numpy as np\n",
    "import matplotlib.pyplot as plt\n",
    "print(pearsonr(np.log2(num_params[1:]), scores[1:]))\n",
    "print(spearmanr(num_params, scores))\n",
    "slope, intercept, r_value, p_value, std_err = linregress(np.log2(num_params[1:]),scores[1:])\n",
    "print(p_value, r_value)\n",
    "x = np.linspace(25, max(np.log2(num_params[1:])), 15)\n",
    "print(errors)\n",
    "print(len(num_params))\n",
    "print(len(scores))\n",
    "\n",
    "plt.errorbar(np.log2(num_params[1:]), scores[1:], fmt='o', yerr=errors[1:])\n",
    "plt.plot(x[1:],  intercept + slope*x[1:], linestyle='-')\n",
    "plt.show()\n",
    "print(intercept)\n",
    "print(slope)\n",
    "print(std_err)\n",
    "print([model for model in result.keys()])\n",
    "for (x,y), error in zip(zip(np.log2(num_params[1:]), scores[1:]),errors[1:]):\n",
    "    print(f\"({x:.03f}, {y:.03f}) +- ({error:.03f},{error:.03f})\")"
   ],
   "metadata": {
    "collapsed": false,
    "pycharm": {
     "name": "#%%\n"
    }
   }
  },
  {
   "cell_type": "code",
   "execution_count": 12,
   "outputs": [
    {
     "name": "stdout",
     "output_type": "stream",
     "text": [
      "SpearmanrResult(correlation=0.9370629370629372, pvalue=6.99316495321054e-06)\n",
      "0.001017709822629197 0.8226413465456951\n",
      "[0.02529432768771428, 0.017072767668528624, 0.01579778300763643, 0.016372056732466167, 0.014135384754913799, 0.016602057253713096, 0.013825463644232622, 0.015199142899022022, 0.01248050910052062, 0.01403019751999074, 0.0138440147499648, 0.013214544541555184]\n",
      "12\n",
      "12\n",
      "-0.31003710774884274\n",
      "0.0173622746555865\n",
      "0.0037946601702024676\n",
      "(21.300110650336272, 0.1094017094017094)\n",
      "(26.706141883421367, 0.13437703848662752)\n",
      "(28.320205598071325, 0.14736297828335057)\n",
      "(26.893274887228642, 0.15057283142389524)\n",
      "(28.404713340382028, 0.18279944289693592)\n",
      "(26.435259267923797, 0.14099526066350712)\n",
      "(28.209727033791154, 0.16382128586996003)\n",
      "(30.18783108836444, 0.2688895686754359)\n",
      "(31.186357600004932, 0.26564123882768653)\n",
      "(25.85059585912028, 0.1019036954087346)\n",
      "(27.731846850786496, 0.1597918989223337)\n",
      "(29.458397601170798, 0.1954322058398381)\n"
     ]
    },
    {
     "data": {
      "text/plain": "<Figure size 432x288 with 1 Axes>",
      "image/png": "[encoded data removed]"
     },
     "metadata": {
      "needs_background": "light"
     },
     "output_type": "display_data"
    }
   ],
   "source": [
    "print(spearmanr(num_params, scores))\n",
    "slope, intercept, r_value, p_value, std_err = linregress(np.log2(num_params),scores)\n",
    "print(p_value, r_value)\n",
    "x = np.linspace(20, max(np.log2(num_params)), 20)\n",
    "print(errors)\n",
    "print(len(num_params))\n",
    "print(len(scores))\n",
    "\n",
    "plt.errorbar(np.log2(num_params), scores, fmt='o', yerr=errors)\n",
    "plt.plot(x,  intercept + slope*x, linestyle='-')\n",
    "plt.show()\n",
    "\n",
    "print(intercept)\n",
    "print(slope)\n",
    "print(std_err)\n",
    "\n",
    "for d, err in zip(zip(np.log2(num_params), scores), errors):\n",
    "    print(d, )"
   ],
   "metadata": {
    "collapsed": false,
    "pycharm": {
     "name": "#%%\n"
    }
   }
  },
  {
   "cell_type": "code",
   "execution_count": 15,
   "outputs": [
    {
     "name": "stdout",
     "output_type": "stream",
     "text": [
      "-----------------------  ----------  ------------------------\n",
      "\\texttt{bidaf}           $12 \\pm 4$  $67.2/76.9$ & $12 \\pm 4$\n",
      "\\texttt{bert-base}       $13 \\pm 3$  $76.3/84.9$ & $13 \\pm 3$\n",
      "\\texttt{bert-large}      $15 \\pm 3$  $81.9/89.4$ & $15 \\pm 3$\n",
      "\\texttt{roberta-base}    $8 \\pm 3$   $82.4/89.9$ & $8 \\pm 3$\n",
      "\\texttt{roberta-large}   $16 \\pm 3$  $86.4/93.3$ & $16 \\pm 3$\n",
      "\\texttt{albert-base}     $10 \\pm 3$  $82.8/90.3$ & $10 \\pm 3$\n",
      "\\texttt{albert-large}    $18 \\pm 3$  $85.4/92.1$ & $18 \\pm 3$\n",
      "\\texttt{albert-xlarge}   $19 \\pm 2$  $87.1/93.5$ & $19 \\pm 2$\n",
      "\\texttt{albert-xxlarge}  $29 \\pm 2$  $88.2/94.4$ & $29 \\pm 2$\n",
      "\\texttt{t5-small}        $13 \\pm 3$  $76.8/85.8$ & $13 \\pm 3$\n",
      "\\texttt{t5-base}         $16 \\pm 3$  $82.4/90.6$ & $16 \\pm 3$\n",
      "\\texttt{t5-large}        $21 \\pm 2$  $86.3/93.1$ & $21 \\pm 2$\n",
      "\\texttt{average}         $18 \\pm 1$  $76.4/83.2$ & $18 \\pm 1$\n",
      "-----------------------  ----------  ------------------------\n"
     ]
    }
   ],
   "source": [
    "datasets = ['squad1']\n",
    "models = ['bidaf', 'bert-base', 'bert-large', 'roberta-base', 'roberta-large',\n",
    "          'albert-base', 'albert-large', 'albert-xlarge', 'albert-xxlarge', 't5-small', 't5-base',\n",
    "          't5-large']\n",
    "result = defaultdict(dict)\n",
    "for ds in datasets:\n",
    "    ds_results = load_json(f'playground/football/{ds}/eoi.json')\n",
    "    for model in models:\n",
    "        model_key = next((k for k in sorted(ds_results.keys(),key=len) if k.startswith(model)), None)\n",
    "        if model_key:\n",
    "            result[model][ds] = ds_results[model_key]\n",
    "        else:\n",
    "            result[model][ds] = None\n",
    "from tabulate import tabulate\n",
    "table = []\n",
    "headers = [] #['average'] + datasets\n",
    "for model_name, values in result.items():\n",
    "        table.append([f\"\\\\texttt{{{model_name}}}\"] + [format_average(values,macro=False)] + [format_overall(values[d]) for d in datasets])\n",
    "#print(format_overall_average(result, macro=False))\n",
    "table.append([\"\\\\texttt{average}\"] + format_overall_average(result, macro=False))\n",
    "print(tabulate(table, headers))"
   ],
   "metadata": {
    "collapsed": false,
    "pycharm": {
     "name": "#%%\n"
    }
   }
  },
  {
   "cell_type": "code",
   "execution_count": 16,
   "outputs": [
    {
     "name": "stdout",
     "output_type": "stream",
     "text": [
      "-----------------------  ----------  ------------------------\n",
      "\\texttt{bidaf}           $12 \\pm 4$  $67.2/76.9$ & $12 \\pm 4$\n",
      "\\texttt{bert-base}       $13 \\pm 3$  $76.3/84.9$ & $13 \\pm 3$\n",
      "\\texttt{bert-large}      $15 \\pm 3$  $81.9/89.4$ & $15 \\pm 3$\n",
      "\\texttt{roberta-base}    $8 \\pm 2$   $82.4/89.9$ & $8 \\pm 2$\n",
      "\\texttt{roberta-large}   $16 \\pm 3$  $86.4/93.3$ & $16 \\pm 3$\n",
      "\\texttt{albert-base}     $10 \\pm 3$  $82.8/90.3$ & $10 \\pm 3$\n",
      "\\texttt{albert-large}    $18 \\pm 3$  $85.4/92.1$ & $18 \\pm 3$\n",
      "\\texttt{albert-xlarge}   $19 \\pm 2$  $87.1/93.5$ & $19 \\pm 2$\n",
      "\\texttt{albert-xxlarge}  $29 \\pm 2$  $88.2/94.4$ & $29 \\pm 2$\n",
      "\\texttt{t5-small}        $13 \\pm 3$  $76.8/85.8$ & $13 \\pm 3$\n",
      "\\texttt{t5-base}         $16 \\pm 3$  $82.4/90.6$ & $16 \\pm 3$\n",
      "\\texttt{t5-large}        $21 \\pm 2$  $86.3/93.1$ & $21 \\pm 2$\n",
      "\\texttt{average}         $18 \\pm 1$  $76.4/83.2$ & $18 \\pm 1$\n",
      "-----------------------  ----------  ------------------------\n"
     ]
    }
   ],
   "source": [
    "datasets = ['squad1']\n",
    "models = ['bidaf', 'bert-base', 'bert-large', 'roberta-base', 'roberta-large',\n",
    "          'albert-base', 'albert-large', 'albert-xlarge', 'albert-xxlarge', 't5-small', 't5-base',\n",
    "          't5-large']\n",
    "result = defaultdict(dict)\n",
    "for ds in datasets:\n",
    "    ds_results = load_json(f'playground/football/{ds}/eoi-rem5.json')\n",
    "    for model in models:\n",
    "        model_key = next((k for k in sorted(ds_results.keys(),key=len) if k.startswith(model)), None)\n",
    "        if model_key:\n",
    "            result[model][ds] = ds_results[model_key]\n",
    "        else:\n",
    "            result[model][ds] = None\n",
    "from tabulate import tabulate\n",
    "table = []\n",
    "headers = [] #['average'] + datasets\n",
    "for model_name, values in result.items():\n",
    "        table.append([f\"\\\\texttt{{{model_name}}}\"] + [format_average(values,macro=False)] + [format_overall(values[d]) for d in datasets])\n",
    "#print(format_overall_average(result, macro=False))\n",
    "table.append([\"\\\\texttt{average}\"] + format_overall_average(result, macro=False))\n",
    "print(tabulate(table, headers))\n",
    "\n"
   ],
   "metadata": {
    "collapsed": false,
    "pycharm": {
     "name": "#%%\n"
    }
   }
  }
 ],
 "metadata": {
  "kernelspec": {
   "display_name": "Python 3",
   "language": "python",
   "name": "python3"
  },
  "language_info": {
   "codemirror_mode": {
    "name": "ipython",
    "version": 2
   },
   "file_extension": ".py",
   "mimetype": "text/x-python",
   "name": "python",
   "nbconvert_exporter": "python",
   "pygments_lexer": "ipython2",
   "version": "2.7.6"
  }
 },
 "nbformat": 4,
 "nbformat_minor": 0
}