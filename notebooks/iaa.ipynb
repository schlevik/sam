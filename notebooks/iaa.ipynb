{
 "cells": [
  {
   "cell_type": "code",
   "execution_count": 145,
   "metadata": {
    "collapsed": true
   },
   "outputs": [
    {
     "name": "stdout",
     "output_type": "stream",
     "text": [
      "The autoreload extension is already loaded. To reload it, use:\n",
      "  %reload_ext autoreload\n",
      "/home/viktor/workspace/mrc-stresstest\n"
     ]
    }
   ],
   "source": [
    "%load_ext autoreload\n",
    "%autoreload 2\n",
    "import os\n",
    "from collections import defaultdict\n",
    "if os.path.basename(os.path.realpath(os.getcwd())) == 'notebooks':\n",
    "    print(\"changing dir...\")\n",
    "    os.chdir('../')\n",
    "print(os.getcwd())\n",
    "\n",
    "import glob\n",
    "import os\n",
    "\n",
    "class Text:\n",
    "    def __init__(self, idx, raw_text):\n",
    "        self.raw_text = raw_text\n",
    "        self.index = idx\n",
    "        self.labels_1 = []\n",
    "        self.labels_2 = []\n",
    "\n",
    "\n",
    "class Label:\n",
    "    def __init__(self, passage_idx,  question, label, annotator=1):\n",
    "        self.passage_idx = passage_idx\n",
    "        self.label = label\n",
    "        self.question = question\n",
    "        self.annotator = annotator\n",
    "    def __eq__(self, other):\n",
    "        return (self.passage_idx == other.passage_idx and\n",
    "                self.label == other.label and\n",
    "                self.question == other.question)\n",
    "\n",
    "    def __repr__(self):\n",
    "        return f\"{self.question}: {self.label}\"\n",
    "\n",
    "labels = [\n",
    "    'Altering',\n",
    "    'Nonaltering',\n",
    "    'Ungrammatical',\n",
    "    'QuestionAnswer',\n",
    "    'BadExample',\n",
    "    'Opposite'\n",
    "    ]\n",
    "def load(file, split=True):\n",
    "    with open(file) as f:\n",
    "        d = f.read()\n",
    "        if split:\n",
    "            d = d.splitlines()\n",
    "        return d\n",
    "def read_aligned_annotation(path, aligned = True):\n",
    "    collection = []\n",
    "    for f in sorted(glob.glob(os.path.join(path, \"*coannotate*\",\"*.txt\"))):\n",
    "        print(f)\n",
    "        aligned_f = f.replace('-coannotate', \"\")\n",
    "        ann_f = f.replace('.txt', '.ann')\n",
    "        raw_text = load(f, split=False)\n",
    "        raw_text_aligned = load(aligned_f, split=False)\n",
    "        assert raw_text == raw_text_aligned\n",
    "        aligned_ann_f = aligned_f.replace('.txt', '.ann')\n",
    "        text_idx = int(f.split('.', 1)[0].rsplit('/', 1)[-1])\n",
    "        t = Text(text_idx, raw_text)\n",
    "        for l in load(ann_f):\n",
    "            if l.startswith(\"T\"):\n",
    "                idx, label_type, start_index, end_index, surface_form = l.replace(\"\\t\", \" \").split(\" \", 4)\n",
    "                start_index, end_index = int(start_index), int(end_index)\n",
    "                if label_type in labels:\n",
    "                    question_text = raw_text[end_index:raw_text[end_index+1:].index('\\n')+end_index+1].strip()\n",
    "                    label = Label(text_idx, question_text, label_type, 1)\n",
    "                    if label not in t.labels_1:\n",
    "                        t.labels_1.append(label)\n",
    "\n",
    "        t.labels_1 = sorted(t.labels_1, key=lambda l: l.question)\n",
    "        for l in load(aligned_ann_f):\n",
    "            if l.startswith(\"T\"):\n",
    "                idx, label_type, start_index, end_index, surface_form = l.replace(\"\\t\", \" \").split(\" \", 4)\n",
    "                start_index, end_index = int(start_index), int(end_index)\n",
    "                if label_type in labels:\n",
    "                    question_text = raw_text_aligned[end_index:raw_text_aligned[end_index+1:].index('\\n')+end_index+1].strip()\n",
    "                    label = Label(text_idx, question_text, label_type, 1)\n",
    "                    if label not in t.labels_2:\n",
    "                        assert any(l.question == question_text for l in t.labels_1), f\"{text_idx} {t.labels_1}, {label}\"\n",
    "                        t.labels_2.append(label)\n",
    "        assert len(t.labels_1) == len(t.labels_2), text_idx\n",
    "        t.labels_2 = sorted(t.labels_2, key=lambda l: l.question)\n",
    "        collection.append(t)\n",
    "    return collection"
   ]
  },
  {
   "cell_type": "code",
   "execution_count": 146,
   "outputs": [
    {
     "name": "stdout",
     "output_type": "stream",
     "text": [
      "data/brat-data-annotated/drop-coannotate/007.txt\n",
      "data/brat-data-annotated/drop-coannotate/017.txt\n",
      "data/brat-data-annotated/drop-coannotate/021.txt\n",
      "data/brat-data-annotated/drop-coannotate/027.txt\n",
      "data/brat-data-annotated/drop-coannotate/031.txt\n",
      "data/brat-data-annotated/drop-coannotate/038.txt\n",
      "data/brat-data-annotated/drop-coannotate/052.txt\n",
      "data/brat-data-annotated/drop-coannotate/061.txt\n",
      "data/brat-data-annotated/drop-coannotate/065.txt\n",
      "data/brat-data-annotated/drop-coannotate/068.txt\n",
      "data/brat-data-annotated/drop-coannotate/069.txt\n",
      "data/brat-data-annotated/drop-coannotate/073.txt\n",
      "data/brat-data-annotated/drop-coannotate/078.txt\n",
      "data/brat-data-annotated/drop-coannotate/079.txt\n",
      "data/brat-data-annotated/drop-coannotate/081.txt\n",
      "data/brat-data-annotated/drop-coannotate/083.txt\n",
      "data/brat-data-annotated/drop-coannotate/085.txt\n",
      "data/brat-data-annotated/drop-coannotate/088.txt\n",
      "data/brat-data-annotated/drop-coannotate/091.txt\n",
      "data/brat-data-annotated/drop-coannotate/095.txt\n",
      "data/brat-data-annotated/hotpotqa-coannotate/000.txt\n",
      "data/brat-data-annotated/hotpotqa-coannotate/003.txt\n",
      "data/brat-data-annotated/hotpotqa-coannotate/005.txt\n",
      "data/brat-data-annotated/hotpotqa-coannotate/006.txt\n",
      "data/brat-data-annotated/hotpotqa-coannotate/014.txt\n",
      "data/brat-data-annotated/hotpotqa-coannotate/017.txt\n",
      "data/brat-data-annotated/hotpotqa-coannotate/027.txt\n",
      "data/brat-data-annotated/hotpotqa-coannotate/028.txt\n",
      "data/brat-data-annotated/hotpotqa-coannotate/029.txt\n",
      "data/brat-data-annotated/hotpotqa-coannotate/032.txt\n",
      "data/brat-data-annotated/hotpotqa-coannotate/040.txt\n",
      "data/brat-data-annotated/hotpotqa-coannotate/045.txt\n",
      "data/brat-data-annotated/hotpotqa-coannotate/050.txt\n",
      "data/brat-data-annotated/hotpotqa-coannotate/052.txt\n",
      "data/brat-data-annotated/hotpotqa-coannotate/057.txt\n",
      "data/brat-data-annotated/hotpotqa-coannotate/068.txt\n",
      "data/brat-data-annotated/hotpotqa-coannotate/073.txt\n",
      "data/brat-data-annotated/hotpotqa-coannotate/086.txt\n",
      "data/brat-data-annotated/hotpotqa-coannotate/092.txt\n",
      "data/brat-data-annotated/hotpotqa-coannotate/099.txt\n",
      "data/brat-data-annotated/newsqa-coannotate/003.txt\n",
      "data/brat-data-annotated/newsqa-coannotate/004.txt\n",
      "data/brat-data-annotated/newsqa-coannotate/009.txt\n",
      "data/brat-data-annotated/newsqa-coannotate/014.txt\n",
      "data/brat-data-annotated/newsqa-coannotate/016.txt\n",
      "data/brat-data-annotated/newsqa-coannotate/018.txt\n",
      "data/brat-data-annotated/newsqa-coannotate/021.txt\n",
      "data/brat-data-annotated/newsqa-coannotate/024.txt\n",
      "data/brat-data-annotated/newsqa-coannotate/030.txt\n",
      "data/brat-data-annotated/newsqa-coannotate/032.txt\n",
      "data/brat-data-annotated/newsqa-coannotate/035.txt\n",
      "data/brat-data-annotated/newsqa-coannotate/038.txt\n",
      "data/brat-data-annotated/newsqa-coannotate/040.txt\n",
      "data/brat-data-annotated/newsqa-coannotate/046.txt\n",
      "data/brat-data-annotated/newsqa-coannotate/052.txt\n",
      "data/brat-data-annotated/newsqa-coannotate/062.txt\n",
      "data/brat-data-annotated/newsqa-coannotate/068.txt\n",
      "data/brat-data-annotated/newsqa-coannotate/071.txt\n",
      "data/brat-data-annotated/newsqa-coannotate/078.txt\n",
      "data/brat-data-annotated/newsqa-coannotate/098.txt\n",
      "data/brat-data-annotated/squad1-coannotate/003.txt\n",
      "data/brat-data-annotated/squad1-coannotate/005.txt\n",
      "data/brat-data-annotated/squad1-coannotate/009.txt\n",
      "data/brat-data-annotated/squad1-coannotate/010.txt\n",
      "data/brat-data-annotated/squad1-coannotate/015.txt\n",
      "data/brat-data-annotated/squad1-coannotate/024.txt\n",
      "data/brat-data-annotated/squad1-coannotate/030.txt\n",
      "data/brat-data-annotated/squad1-coannotate/031.txt\n",
      "data/brat-data-annotated/squad1-coannotate/045.txt\n",
      "data/brat-data-annotated/squad1-coannotate/047.txt\n",
      "data/brat-data-annotated/squad1-coannotate/055.txt\n",
      "data/brat-data-annotated/squad1-coannotate/066.txt\n",
      "data/brat-data-annotated/squad1-coannotate/075.txt\n",
      "data/brat-data-annotated/squad1-coannotate/077.txt\n",
      "data/brat-data-annotated/squad1-coannotate/081.txt\n",
      "data/brat-data-annotated/squad1-coannotate/085.txt\n",
      "data/brat-data-annotated/squad1-coannotate/088.txt\n",
      "data/brat-data-annotated/squad1-coannotate/093.txt\n",
      "data/brat-data-annotated/squad1-coannotate/097.txt\n",
      "data/brat-data-annotated/squad1-coannotate/099.txt\n"
     ]
    }
   ],
   "source": [
    "collection = read_aligned_annotation('data/brat-data-annotated/')"
   ],
   "metadata": {
    "collapsed": false,
    "pycharm": {
     "name": "#%%\n"
    }
   }
  },
  {
   "cell_type": "code",
   "execution_count": 154,
   "outputs": [
    {
     "name": "stdout",
     "output_type": "stream",
     "text": [
      "Altering 0\n",
      "Nonaltering 1\n",
      "Ungrammatical 2\n",
      "QuestionAnswer 3\n",
      "BadExample 4\n",
      "Opposite 5\n"
     ]
    }
   ],
   "source": [
    "label_map = {l: i for i, l in enumerate(labels)}\n",
    "for l, i in label_map.items():\n",
    "    print(l,i)"
   ],
   "metadata": {
    "collapsed": false,
    "pycharm": {
     "name": "#%%\n"
    }
   }
  },
  {
   "cell_type": "code",
   "execution_count": 155,
   "outputs": [
    {
     "name": "stdout",
     "output_type": "stream",
     "text": [
      "0.8225084988370013\n"
     ]
    }
   ],
   "source": [
    "ann_1 = []\n",
    "ann_2 = []\n",
    "for text in collection:\n",
    "    for l1, l2 in zip(text.labels_1, text.labels_2):\n",
    "        assert l1.question == l2.question\n",
    "        ann_1.append(label_map[l1.label])\n",
    "        ann_2.append(label_map[l2.label])\n",
    "\n",
    "from sklearn.metrics import cohen_kappa_score\n",
    "print(cohen_kappa_score(ann_1, ann_2,labels = [1,2,3,4,5]))"
   ],
   "metadata": {
    "collapsed": false,
    "pycharm": {
     "name": "#%%\n"
    }
   }
  },
  {
   "cell_type": "code",
   "execution_count": 165,
   "outputs": [],
   "source": [
    "def read_annotation(path):\n",
    "    collection = []\n",
    "    for f in sorted(glob.glob(os.path.join(path, \"*\",\"*.txt\"))):\n",
    "        if 'coannotate' not in f:\n",
    "            ann_f = f.replace('.txt', '.ann')\n",
    "            raw_text = load(f, split=False)\n",
    "            text_idx = int(f.split('.', 1)[0].rsplit('/', 1)[-1])\n",
    "            t = Text(text_idx, raw_text)\n",
    "            for l in load(ann_f):\n",
    "                if l.startswith(\"T\"):\n",
    "                    idx, label_type, start_index, end_index, surface_form = l.replace(\"\\t\", \" \").split(\" \", 4)\n",
    "                    start_index, end_index = int(start_index), int(end_index)\n",
    "                    if label_type in labels:\n",
    "                        question_text = raw_text[end_index:raw_text[end_index+1:].index('\\n')+end_index+1].strip()\n",
    "                        label = Label(text_idx, question_text, label_type, 1)\n",
    "                        if label not in t.labels_1:\n",
    "                            t.labels_1.append(label)\n",
    "\n",
    "            t.labels_1 = sorted(t.labels_1, key=lambda l: l.question)\n",
    "            collection.append(t)\n",
    "    return collection"
   ],
   "metadata": {
    "collapsed": false,
    "pycharm": {
     "name": "#%%\n"
    }
   }
  },
  {
   "cell_type": "code",
   "execution_count": 167,
   "outputs": [
    {
     "name": "stdout",
     "output_type": "stream",
     "text": [
      "400\n"
     ]
    }
   ],
   "source": [
    "single_annotation = read_annotation('data/brat-data-annotated/')\n",
    "print(len(single_annotation))"
   ],
   "metadata": {
    "collapsed": false,
    "pycharm": {
     "name": "#%%\n"
    }
   }
  },
  {
   "cell_type": "code",
   "execution_count": 170,
   "outputs": [
    {
     "name": "stdout",
     "output_type": "stream",
     "text": [
      "Counter({'Nonaltering': 522, 'QuestionAnswer': 61, 'BadExample': 36, 'Opposite': 27, 'Altering': 1})\n"
     ]
    }
   ],
   "source": [
    "from collections import Counter\n",
    "c = Counter()\n",
    "total = 0\n",
    "for t in single_annotation:\n",
    "    for l in t.labels_1:\n",
    "        c[l.label] += 1\n",
    "        total += 1\n",
    "print(c)"
   ],
   "metadata": {
    "collapsed": false,
    "pycharm": {
     "name": "#%%\n"
    }
   }
  },
  {
   "cell_type": "code",
   "execution_count": 180,
   "outputs": [
    {
     "name": "stdout",
     "output_type": "stream",
     "text": [
      "647\n",
      "--------------  ---  ------\n",
      "Nonaltering     522  80.68%\n",
      "QuestionAnswer   61  9.43%\n",
      "Altering          1  0.15%\n",
      "BadExample       36  5.56%\n",
      "Opposite         27  4.17%\n",
      "--------------  ---  ------\n"
     ]
    }
   ],
   "source": [
    "import tabulate\n",
    "print(total)\n",
    "print(tabulate.tabulate([[l,v, f\"{v / total:.2%}\"] for l, v in c.items()]))"
   ],
   "metadata": {
    "collapsed": false,
    "pycharm": {
     "name": "#%%\n"
    }
   }
  },
  {
   "cell_type": "code",
   "execution_count": null,
   "outputs": [],
   "source": [],
   "metadata": {
    "collapsed": false,
    "pycharm": {
     "name": "#%%\n"
    }
   }
  }
 ],
 "metadata": {
  "kernelspec": {
   "display_name": "Python 3",
   "language": "python",
   "name": "python3"
  },
  "language_info": {
   "codemirror_mode": {
    "name": "ipython",
    "version": 2
   },
   "file_extension": ".py",
   "mimetype": "text/x-python",
   "name": "python",
   "nbconvert_exporter": "python",
   "pygments_lexer": "ipython2",
   "version": "2.7.6"
  }
 },
 "nbformat": 4,
 "nbformat_minor": 0
}