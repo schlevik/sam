{
 "cells": [
  {
   "cell_type": "markdown",
   "metadata": {
    "collapsed": true,
    "pycharm": {
     "name": "#%% md\n"
    }
   },
   "source": [
    "## Imports etc\n"
   ]
  },
  {
   "cell_type": "code",
   "execution_count": 1,
   "outputs": [],
   "source": [
    "from stresstest.classes import Templates\n",
    "from stresstest.util import load_graph\n",
    "%load_ext autoreload\n",
    "%autoreload 2\n",
    "\n",
    "graph_path = 'stresstest/resources/unnamed0.graphml'\n",
    "#%load_extension autoreload\n",
    "#%autoreload 2\n",
    "graph = load_graph(graph_path)"
   ],
   "metadata": {
    "collapsed": false,
    "pycharm": {
     "name": "#%% python\n",
     "is_executing": false
    }
   }
  },
  {
   "cell_type": "code",
   "execution_count": 2,
   "outputs": [],
   "source": [
    "from stresstest.passage.rules import AtLeastOneSentence, NoFoulTeam, GoalWithDistractor, \\\n",
    "    UniqueElaborations\n",
    "\n",
    "from stresstest.question.independent_rules import IsNotModified, BareMinimum\n",
    "from stresstest.realization.rules import Modifier, SingularPlural\n",
    "from stresstest.main import generate_random\n",
    "strategy_rules = [AtLeastOneSentence(), NoFoulTeam(), GoalWithDistractor(),\n",
    "         UniqueElaborations(3)]\n",
    "realisation_rules = [SingularPlural(), Modifier()]\n",
    "templates = Templates('stresstest/resources/clauses.conf',realisation_rules)\n",
    "question_rules =  [BareMinimum(), IsNotModified()]\n",
    "gen = lambda: generate_random(graph,\n",
    "                strategy_rules=strategy_rules,\n",
    "                templates=templates,\n",
    "                question_rules=question_rules)"
   ],
   "metadata": {
    "collapsed": false,
    "pycharm": {
     "name": "#%% python\n",
     "is_executing": false
    }
   }
  },
  {
   "cell_type": "markdown",
   "source": [
    "Our generation:"
   ],
   "metadata": {
    "collapsed": false,
    "pycharm": {
     "name": "#%% md\n"
    }
   }
  },
  {
   "cell_type": "code",
   "execution_count": 22,
   "outputs": [
    {
     "name": "stdout",
     "text": [
      "188\n"
     ],
     "output_type": "stream"
    }
   ],
   "source": [
    "ps = [gen().passage_string for _ in range(188)]\n",
    "print(len(ps))\n",
    "from stresstest.textmetrics import pointwise_average_distance, JaccardDistance\n",
    "distances = pointwise_average_distance(ps, JaccardDistance())"
   ],
   "metadata": {
    "collapsed": false,
    "pycharm": {
     "name": "#%% python\n",
     "is_executing": false
    }
   }
  },
  {
   "cell_type": "code",
   "execution_count": 23,
   "outputs": [
    {
     "name": "stdout",
     "text": [
      "0.32057665270926994 ± 0.0015289056543834442\n"
     ],
     "output_type": "stream"
    }
   ],
   "source": [
    "import math\n",
    "import numpy as np\n",
    "dist_array = np.array(distances)\n",
    "print(f'{dist_array.mean()} ± {2*dist_array.std()/math.sqrt(len(dist_array))}')"
   ],
   "metadata": {
    "collapsed": false,
    "pycharm": {
     "name": "#%% python\n",
     "is_executing": false
    }
   }
  },
  {
   "cell_type": "markdown",
   "source": [
    "Drop:\n"
   ],
   "metadata": {
    "collapsed": false,
    "pycharm": {
     "name": "#%% md\n"
    }
   }
  },
  {
   "cell_type": "code",
   "execution_count": 17,
   "outputs": [
    {
     "name": "stdout",
     "text": [
      "188\n"
     ],
     "output_type": "stream"
    }
   ],
   "source": [
    "import ujson as json\n",
    "with open(\"/data/drop/drop_dataset_dev.json\") as f:\n",
    "    data = json.load(f)\n",
    "drop = [v['passage'] for k,v in data.items() if \"nfl\" in k]\n",
    "print(len(drop))\n",
    "\n",
    "drop_distances = pointwise_average_distance(drop, JaccardDistance())"
   ],
   "metadata": {
    "collapsed": false,
    "pycharm": {
     "name": "#%% python\n",
     "is_executing": false
    }
   }
  },
  {
   "cell_type": "code",
   "execution_count": 19,
   "outputs": [
    {
     "name": "stdout",
     "text": [
      "0.16420688775112272 ± 0.0004955680232789154\n"
     ],
     "output_type": "stream"
    }
   ],
   "source": [
    "dist_array_drop = np.array(drop_distances)\n",
    "print(f'{dist_array_drop.mean()} ± {2*dist_array_drop.std()/math.sqrt(len(dist_array_drop))}')"
   ],
   "metadata": {
    "collapsed": false,
    "pycharm": {
     "name": "#%% python\n",
     "is_executing": false
    }
   }
  }
 ],
 "metadata": {
  "kernelspec": {
   "display_name": "Python 3",
   "language": "python",
   "name": "python3"
  },
  "language_info": {
   "codemirror_mode": {
    "name": "ipython",
    "version": 2
   },
   "file_extension": ".py",
   "mimetype": "text/x-python",
   "name": "python",
   "nbconvert_exporter": "python",
   "pygments_lexer": "ipython2",
   "version": "2.7.6"
  },
  "pycharm": {
   "stem_cell": {
    "cell_type": "raw",
    "source": [],
    "metadata": {
     "collapsed": false
    }
   }
  }
 },
 "nbformat": 4,
 "nbformat_minor": 0
}
